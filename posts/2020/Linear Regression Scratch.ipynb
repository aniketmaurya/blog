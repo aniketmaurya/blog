{
 "cells": [
  {
   "cell_type": "raw",
   "metadata": {},
   "source": [
    "---\n",
    "aliases:\n",
    "- /Machine Learning/2020/03/27/Linear Regression Scratch\n",
    "badges: true\n",
    "categories:\n",
    "- Machine Learning\n",
    "date: '2020-03-27'\n",
    "description: A tutorial on Linear Regression from scratch in Python\n",
    "image: https://upload.wikimedia.org/wikipedia/commons/thumb/e/ec/Anscombe%27s_quartet_3.svg/440px-Anscombe%27s_quartet_3.svg.png\n",
    "output-file: 2020-03-27-linear regression scratch.html\n",
    "title: Linear Regression from Scratch\n",
    "toc: true\n",
    "\n",
    "---\n",
    "\n"
   ]
  },
  {
   "cell_type": "markdown",
   "metadata": {},
   "source": [
    "## Import libraries"
   ]
  },
  {
   "cell_type": "code",
   "execution_count": 1,
   "metadata": {},
   "outputs": [],
   "source": [
    "import numpy as np\n",
    "import random\n",
    "import matplotlib.pyplot as plt"
   ]
  },
  {
   "cell_type": "markdown",
   "metadata": {},
   "source": [
    "## Data"
   ]
  },
  {
   "cell_type": "code",
   "execution_count": 2,
   "metadata": {},
   "outputs": [],
   "source": [
    "X = [*range(1, 51)]\n",
    "Y = list(map(lambda x: 2*x + 5, X))"
   ]
  },
  {
   "cell_type": "markdown",
   "metadata": {},
   "source": [
    "## Univariate Regression\n",
    "\n",
    "\\\\(h(\\theta) = \\theta*X + b\\\\)\n",
    "\n",
    "\n",
    "### MSE cost function\n",
    "\n",
    "\n",
    "\\\\(\\sum (h(x) - y)^2\\\\)\n",
    "\n",
    "\n",
    "### Gradient Descent\n",
    "\n",
    "\n",
    "```\n",
    "\n",
    "repeat {\n",
    "\n",
    "    Ø = Ø - ∆J(Ø) = Ø - LR*1/m * sum((h(Ø, b) - Y)*X)    \n",
    "    \n",
    "    b = b - ∆J(b) =  b - LR*1/m * sum((h(Ø, b) - Y))\n",
    "}\n",
    "\n",
    "```"
   ]
  },
  {
   "cell_type": "code",
   "execution_count": 3,
   "metadata": {},
   "outputs": [],
   "source": [
    "def mse(y_true, y_pred):\n",
    "    cost = 0\n",
    "    m = len(y_pred)\n",
    "    for i in range(m):\n",
    "        cost += (y_pred[i] - y_true[i]) ** 2\n",
    "    return cost/(2*m)\n",
    "\n",
    "def der_mse(y_true, y_pred):\n",
    "    der_cost = 0\n",
    "    m = len(y_pred)\n",
    "    for i in range(m):\n",
    "        der_cost += (y_pred[i] - y_true[i])\n",
    "    return der_cost\n",
    "\n",
    "def predict(x):\n",
    "    return w*x + b"
   ]
  },
  {
   "cell_type": "code",
   "execution_count": 16,
   "metadata": {},
   "outputs": [
    {
     "name": "stdout",
     "output_type": "stream",
     "text": [
      "epoch:0\t\tcost:0.024546020195931887\n",
      "epoch:500\t\tcost:0.0035238913511105277\n",
      "epoch:1000\t\tcost:0.0004771777468473895\n",
      "epoch:1500\t\tcost:6.461567040474519e-05\n",
      "epoch:2000\t\tcost:8.749747634800157e-06\n",
      "epoch:2500\t\tcost:1.1848222450189964e-06\n",
      "epoch:3000\t\tcost:1.604393419109384e-07\n",
      "epoch:3500\t\tcost:2.1725438173628743e-08\n",
      "epoch:4000\t\tcost:2.9418885555175706e-09\n",
      "epoch:4500\t\tcost:3.983674896607656e-10\n",
      "epoch:5000\t\tcost:5.3943803161575866e-11\n",
      "epoch:5500\t\tcost:7.30464704919418e-12\n",
      "epoch:6000\t\tcost:9.891380608202818e-13\n",
      "epoch:6500\t\tcost:1.3394131683086816e-13\n",
      "epoch:7000\t\tcost:1.8137281109430194e-14\n",
      "epoch:7500\t\tcost:2.4560089530711338e-15\n",
      "epoch:8000\t\tcost:3.3257381016463754e-16\n",
      "epoch:8500\t\tcost:4.5034718706313674e-17\n",
      "epoch:9000\t\tcost:6.09814092196085e-18\n",
      "epoch:9500\t\tcost:8.25761584212193e-19\n"
     ]
    }
   ],
   "source": [
    "# Intialization of variables\n",
    "\n",
    "m = len(X)\n",
    "LR = 0.01\n",
    "w,b =0,0.1\n",
    "\n",
    "epochs = 10000\n",
    "# Training\n",
    "\n",
    "total_cost = []\n",
    "for i in range(epochs):\n",
    "    y_pred = []\n",
    "    epoch_cost = []\n",
    "    for num, data in enumerate(zip(X, Y)):\n",
    "        x, y = data\n",
    "        y_pred = []\n",
    "        y_pred.append(w*x + b)\n",
    "        \n",
    "        \n",
    "        cost = mse(Y[num:num+1], y_pred)\n",
    "        epoch_cost.append(cost)\n",
    "        der_cost = der_mse(Y[num:num+1], y_pred)\n",
    "\n",
    "        w -= LR * (1/m) * der_cost * x\n",
    "        b -= LR * (1/m) * der_cost\n",
    "        \n",
    "    total_cost.append(np.mean(epoch_cost))\n",
    "    if i%500==0:\n",
    "        print(f'epoch:{i}\\t\\tcost:{cost}')"
   ]
  },
  {
   "cell_type": "code",
   "execution_count": 17,
   "metadata": {},
   "outputs": [
    {
     "data": {
      "text/plain": [
       "(8.999999990490096, 22.999999991911498)"
      ]
     },
     "execution_count": 17,
     "metadata": {},
     "output_type": "execute_result"
    }
   ],
   "source": [
    "predict(2), predict(9)"
   ]
  },
  {
   "cell_type": "code",
   "execution_count": 18,
   "metadata": {},
   "outputs": [
    {
     "data": {
      "text/plain": [
       "(2.000000000203057, 4.999999990083981)"
      ]
     },
     "execution_count": 18,
     "metadata": {},
     "output_type": "execute_result"
    }
   ],
   "source": [
    "w, b"
   ]
  },
  {
   "cell_type": "code",
   "execution_count": 19,
   "metadata": {},
   "outputs": [
    {
     "data": {
      "image/png": "[encoded data removed]",
      "text/plain": [
       "<Figure size 432x288 with 1 Axes>"
      ]
     },
     "metadata": {
      "needs_background": "light"
     },
     "output_type": "display_data"
    }
   ],
   "source": [
    "plt.plot(total_cost)\n",
    "plt.show()"
   ]
  },
  {
   "cell_type": "code",
   "execution_count": null,
   "metadata": {},
   "outputs": [],
   "source": []
  },
  {
   "cell_type": "code",
   "execution_count": null,
   "metadata": {},
   "outputs": [],
   "source": []
  }
 ],
 "metadata": {
  "kernelspec": {
   "display_name": "Python 3",
   "language": "python",
   "name": "python3"
  },
  "language_info": {
   "codemirror_mode": {
    "name": "ipython",
    "version": 3
   },
   "file_extension": ".py",
   "mimetype": "text/x-python",
   "name": "python",
   "nbconvert_exporter": "python",
   "pygments_lexer": "ipython3",
   "version": "3.7.0"
  }
 },
 "nbformat": 4,
 "nbformat_minor": 4
}
