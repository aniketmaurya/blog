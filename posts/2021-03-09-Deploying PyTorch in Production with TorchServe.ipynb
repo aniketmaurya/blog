{
 "cells": [
  {
   "cell_type": "raw",
   "metadata": {},
   "source": [
    "---\n",
    "aliases:\n",
    "- /mlops/production/pytorch/torchserve/2021/03/09/Deploying PyTorch in Production\n",
    "  with TorchServe\n",
    "badges: true\n",
    "categories:\n",
    "- pytorch\n",
    "- torchserve\n",
    "- mlops\n",
    "- production\n",
    "date: '2021-03-09'\n",
    "description: A tutorial of Pytorch deep learning model deployment with TorchServe\n",
    "draft: 'true'\n",
    "image: images/chart-preview.png\n",
    "output-file: 2021-03-09-deploying pytorch in production with torchserve.html\n",
    "title: Deploying PyTorch in Production with TorchServe\n",
    "toc: true\n",
    "\n",
    "---\n",
    "\n"
   ]
  },
  {
   "cell_type": "markdown",
   "metadata": {},
   "source": [
    "We will discuss about Model Archiever,  writing custom Handler and torchserve inferene APIs."
   ]
  },
  {
   "cell_type": "markdown",
   "metadata": {},
   "source": [
    "# Handler\n",
    "\n",
    "In plain and simple words, `Handler` is a Python module that defines few methods that initializes the model, preprocess data, infer from model and post-process the output (Init-Pre-Infer-Post).\n",
    "\n",
    "1. Initialize the model instance\n",
    "2. Pre-process input data before it is sent to the model for inference\n",
    "3. Customize how the model is invoked for inference or explanations\n",
    "4. Post-process output from the model before sending the response to the user\n",
    "\n",
    "`BaseHandler` is an Abstract class for Handler which already implements most of the functionality.\n",
    "> **Methods of BaseHandler class:** initialize, preprocess, postprocess, handle, explain_handle\n",
    "\n",
    "We may need to override preprocess or postprocess based on our use case!\n"
   ]
  },
  {
   "cell_type": "code",
   "execution_count": null,
   "metadata": {},
   "outputs": [],
   "source": []
  },
  {
   "cell_type": "code",
   "execution_count": null,
   "metadata": {},
   "outputs": [],
   "source": []
  },
  {
   "cell_type": "markdown",
   "metadata": {},
   "source": [
    "## Footnotes\n",
    "\n",
    "You can have footnotes in notebooks, however the syntax is different compared to markdown documents. [This guide provides more detail about this syntax](https://github.com/fastai/fastpages/blob/master/_fastpages_docs/NOTEBOOK_FOOTNOTES.md), which looks like this:\n",
    "\n",
    "```\n",
    "{% raw %}For example, here is a footnote {% fn 1 %}.\n",
    "And another {% fn 2 %}\n",
    "{{ 'This is the footnote.' | fndetail: 1 }}\n",
    "{{ 'This is the other footnote. You can even have a [link](www.github.com)!' | fndetail: 2 }}{% endraw %}\n",
    "```\n",
    "\n",
    "For example, here is a footnote {% fn 1 %}.\n",
    "\n",
    "And another {% fn 2 %}\n",
    "\n",
    "{{ 'This is the footnote.' | fndetail: 1 }}\n",
    "{{ 'This is the other footnote. You can even have a [link](www.github.com)!' | fndetail: 2 }}"
   ]
  },
  {
   "cell_type": "code",
   "execution_count": null,
   "metadata": {},
   "outputs": [],
   "source": []
  }
 ],
 "metadata": {
  "kernelspec": {
   "display_name": "Python 3",
   "language": "python",
   "name": "python3"
  },
  "language_info": {
   "codemirror_mode": {
    "name": "ipython",
    "version": 3
   },
   "file_extension": ".py",
   "mimetype": "text/x-python",
   "name": "python",
   "nbconvert_exporter": "python",
   "pygments_lexer": "ipython3",
   "version": "3.7.9"
  },
  "toc": {
   "base_numbering": 1,
   "nav_menu": {},
   "number_sections": true,
   "sideBar": true,
   "skip_h1_title": false,
   "title_cell": "Table of Contents",
   "title_sidebar": "Contents",
   "toc_cell": false,
   "toc_position": {},
   "toc_section_display": true,
   "toc_window_display": false
  },
  "varInspector": {
   "cols": {
    "lenName": 16,
    "lenType": 16,
    "lenVar": 40
   },
   "kernels_config": {
    "python": {
     "delete_cmd_postfix": "",
     "delete_cmd_prefix": "del ",
     "library": "var_list.py",
     "varRefreshCmd": "print(var_dic_list())"
    },
    "r": {
     "delete_cmd_postfix": ") ",
     "delete_cmd_prefix": "rm(",
     "library": "var_list.r",
     "varRefreshCmd": "cat(var_dic_list()) "
    }
   },
   "types_to_exclude": [
    "module",
    "function",
    "builtin_function_or_method",
    "instance",
    "_Feature"
   ],
   "window_display": false
  }
 },
 "nbformat": 4,
 "nbformat_minor": 4
}
