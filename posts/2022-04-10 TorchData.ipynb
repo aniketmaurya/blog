{
 "cells": [
  {
   "cell_type": "raw",
   "metadata": {},
   "source": [
    "---\n",
    "badges: true\n",
    "categories:\n",
    "- pytorch\n",
    "date: '2022-04-10'\n",
    "description: Learn How to load image data with TorchData and train Image classifier\n",
    "image: https://images.pexels.com/photos/1029635/pexels-photo-1029635.jpeg?auto=compress\n",
    "keywords: PyTorch, deep learning, data\n",
    "output-file: 2022-04-10 torchdata.html\n",
    "title: 'TorchData: PyTorch Data loading utility library'\n",
    "toc: true\n",
    "\n",
    "---\n",
    "\n"
   ]
  },
  {
   "cell_type": "markdown",
   "id": "bad60cce-ae79-41f9-9130-17d4d26f881e",
   "metadata": {},
   "source": [
    "# In this tutorial, we will learn about TorchData\n",
    "\n",
    "\n",
    "![Photo by Scott Webb from Pexels](https://images.pexels.com/photos/1029635/pexels-photo-1029635.jpeg?auto=compress&cs=tinysrgb&w=1260&h=750&dpr=2)"
   ]
  },
  {
   "cell_type": "markdown",
   "id": "e68346b5-532c-49b0-911f-061b41fd1fba",
   "metadata": {},
   "source": [
    "PyTorch 1.11 came with a new libray called `TorchData`. It provides common data loading primitives for easily constructing flexible and performant data pipelines. TorchData promotes composable data loading for code reusablity with `DataPipes`.\n",
    "\n",
    "`DataPipes` is the building block of TorchData and works out of the box with PyTorch `DataLoader`. It can be chained to form a data pipeline where data will be transformed from each `DataPipe`.\n",
    "\n",
    "For example if we have image dataset in a folder with a CSV mapping of classes and we want to create a DataLoader that returns batch of image Tensor and labels.\n",
    "\n",
    "For this we need we do the following steps:\n",
    "\n",
    "1. Read and Parse the CSV\n",
    "2. \n",
    "    a. Get image filepath\n",
    "    b. Decode label\n",
    "3. Read Image\n",
    "4. Convert Image to Tensor\n",
    "5. Return image Tensor and Label index\n",
    "\n",
    "These steps can be a chained DataPipe where the initial data will flow from the first step to the very last applying transformations in each step.\n",
    "\n",
    "Now, lets see how to do the same with TorchData code."
   ]
  },
  {
   "cell_type": "code",
   "execution_count": 3,
   "id": "d9e3e684-5186-4938-90d8-0473a4ec65ab",
   "metadata": {},
   "outputs": [],
   "source": [
    "!pip install torchdata -q"
   ]
  },
  {
   "cell_type": "code",
   "execution_count": 1,
   "id": "b2abaf15-603b-48a7-b8b8-c8ba1792296e",
   "metadata": {},
   "outputs": [],
   "source": [
    "import torch\n",
    "from torchdata.datapipes.iter import (\n",
    "    FileOpener,\n",
    "    Filter,\n",
    "    FileLister, Filter, \n",
    ")\n",
    "\n",
    "\n",
    "from PIL import Image\n",
    "from torch.utils.data import DataLoader\n",
    "from torchvision.transforms.functional import to_tensor"
   ]
  },
  {
   "cell_type": "markdown",
   "id": "c4b6435b-9318-4bd9-bb14-b8b17ef47297",
   "metadata": {},
   "source": [
    "We will use CIFAR-10 dataset which has the same structure as we discussed."
   ]
  },
  {
   "cell_type": "markdown",
   "id": "03bbafe4-6191-4d5b-baf4-92398c1f7e5d",
   "metadata": {},
   "source": [
    "From TorchData docs:\n",
    "\n",
    "> We have implemented over 50 DataPipes that provide different core functionalities, such as opening files, parsing texts, transforming samples, caching, shuffling, and batching. For users who are interested in connecting to cloud providers (such as Google Drive or AWS S3), the fsspec and iopath DataPipes will allow you to do so. The documentation provides detailed explanations and usage examples of each IterDataPipe and MapDataPipe.\n",
    "\n",
    "Basically, TorchData has already implemented 50 DataPipes which you can use directly. Here we will use use `FileOpener` and `parse_csv` to read the csv data."
   ]
  },
  {
   "cell_type": "code",
   "execution_count": 10,
   "id": "84204501-5045-4b32-8446-13fcae5f60c4",
   "metadata": {},
   "outputs": [
    {
     "name": "stdout",
     "output_type": "stream",
     "text": [
      "['id', 'label']\n",
      "['1', 'frog']\n",
      "['2', 'truck']\n",
      "['3', 'truck']\n",
      "['4', 'deer']\n",
      "['5', 'automobile']\n",
      "['6', 'automobile']\n",
      "['7', 'bird']\n",
      "['8', 'horse']\n",
      "['9', 'ship']\n",
      "['10', 'cat']\n"
     ]
    }
   ],
   "source": [
    "ROOT = \"/Users/aniket/datasets/cifar-10/train\"\n",
    "\n",
    "csv_dp = FileLister(f\"{ROOT}/../trainLabels.csv\")\n",
    "csv_dp = FileOpener(csv_dp)\n",
    "csv_dp = csv_dp.parse_csv()\n",
    "\n",
    "for i, e in enumerate(csv_dp):\n",
    "    if i>10: break\n",
    "    print(e)"
   ]
  },
  {
   "cell_type": "markdown",
   "id": "1ed06c53-b6cf-4894-9439-050b887da2f9",
   "metadata": {},
   "source": [
    "We don't need the header of csv in our datapipe (`[id, label]`), so we will use the inbuilt `Filter` DataPipe to remove it."
   ]
  },
  {
   "cell_type": "code",
   "execution_count": 13,
   "id": "24b9cdd0-5f73-417e-a08c-e6f6928f2091",
   "metadata": {},
   "outputs": [
    {
     "name": "stdout",
     "output_type": "stream",
     "text": [
      "['1', 'frog']\n",
      "['2', 'truck']\n",
      "['3', 'truck']\n",
      "['4', 'deer']\n",
      "['5', 'automobile']\n"
     ]
    }
   ],
   "source": [
    "csv_dp = Filter(csv_dp, lambda x: x[1]!=\"label\")\n",
    "labels = {e: i for i, e in enumerate(set([e[1] for e in csv_dp]))}\n",
    "\n",
    "for i, e in enumerate(csv_dp):\n",
    "    if i>4: break\n",
    "    print(e)"
   ]
  },
  {
   "cell_type": "markdown",
   "id": "beb07278-8a2a-4359-bade-a99dc3af2868",
   "metadata": {},
   "source": [
    "Now, we have a DataPipe `csv_dp` which flows `file id` and `label`. We need to conver the file id into filepath and label in label index.\n",
    "\n",
    "We can map functions to the DataPipe and even form a chain of mapping to apply transformations."
   ]
  },
  {
   "cell_type": "code",
   "execution_count": 56,
   "id": "0410f55f-d9d7-4e7a-adc5-115b2ec7dce7",
   "metadata": {},
   "outputs": [
    {
     "name": "stdout",
     "output_type": "stream",
     "text": [
      "('/Users/aniket/datasets/cifar-10/train/1.png', 'frog')\n",
      "('/Users/aniket/datasets/cifar-10/train/2.png', 'truck')\n",
      "('/Users/aniket/datasets/cifar-10/train/3.png', 'truck')\n",
      "('/Users/aniket/datasets/cifar-10/train/4.png', 'deer')\n",
      "('/Users/aniket/datasets/cifar-10/train/5.png', 'automobile')\n"
     ]
    }
   ],
   "source": [
    "def get_filename(data):    \n",
    "    idx, label = data\n",
    "    return f\"{ROOT}/{idx}.png\", label\n",
    "\n",
    "dp = csv_dp.map(get_filename)\n",
    "for i, e in enumerate(dp):\n",
    "    if i>4: break\n",
    "    print(e)"
   ]
  },
  {
   "cell_type": "code",
   "execution_count": 57,
   "id": "79190db0-ddbd-47fe-9db8-d73fa7b1142d",
   "metadata": {},
   "outputs": [
    {
     "data": {
      "image/png": "[encoded data removed]",
      "text/plain": [
       "<PIL.PngImagePlugin.PngImageFile image mode=RGB size=32x32 at 0x292D0D910>"
      ]
     },
     "metadata": {},
     "output_type": "display_data"
    },
    {
     "name": "stdout",
     "output_type": "stream",
     "text": [
      "frog\n"
     ]
    },
    {
     "data": {
      "image/png": "[encoded data removed]",
      "text/plain": [
       "<PIL.PngImagePlugin.PngImageFile image mode=RGB size=32x32 at 0x292D29610>"
      ]
     },
     "metadata": {},
     "output_type": "display_data"
    },
    {
     "name": "stdout",
     "output_type": "stream",
     "text": [
      "truck\n"
     ]
    },
    {
     "data": {
      "image/png": "[encoded data removed]",
      "text/plain": [
       "<PIL.PngImagePlugin.PngImageFile image mode=RGB size=32x32 at 0x292D29490>"
      ]
     },
     "metadata": {},
     "output_type": "display_data"
    },
    {
     "name": "stdout",
     "output_type": "stream",
     "text": [
      "truck\n"
     ]
    },
    {
     "data": {
      "image/png": "[encoded data removed]",
      "text/plain": [
       "<PIL.PngImagePlugin.PngImageFile image mode=RGB size=32x32 at 0x292D295B0>"
      ]
     },
     "metadata": {},
     "output_type": "display_data"
    },
    {
     "name": "stdout",
     "output_type": "stream",
     "text": [
      "deer\n"
     ]
    },
    {
     "data": {
      "image/png": "[encoded data removed]",
      "text/plain": [
       "<PIL.PngImagePlugin.PngImageFile image mode=RGB size=32x32 at 0x292C48820>"
      ]
     },
     "metadata": {},
     "output_type": "display_data"
    },
    {
     "name": "stdout",
     "output_type": "stream",
     "text": [
      "automobile\n"
     ]
    },
    {
     "data": {
      "image/png": "[encoded data removed]",
      "text/plain": [
       "<PIL.PngImagePlugin.PngImageFile image mode=RGB size=32x32 at 0x292D0DD90>"
      ]
     },
     "metadata": {},
     "output_type": "display_data"
    },
    {
     "name": "stdout",
     "output_type": "stream",
     "text": [
      "automobile\n"
     ]
    }
   ],
   "source": [
    "from IPython.display import display\n",
    "\n",
    "def load_image(data):\n",
    "    file, label = data\n",
    "    return Image.open(file), label\n",
    "\n",
    "dp = dp.map(load_image)\n",
    "\n",
    "for i, e in enumerate(dp):\n",
    "    display(e[0])\n",
    "    print(e[1])\n",
    "    if i>=5: break"
   ]
  },
  {
   "cell_type": "markdown",
   "id": "041f0b8f-2bef-45cd-b86c-98d267ded2d5",
   "metadata": {},
   "source": [
    "Finally we map the datapipe to process image to Tensor and label to index."
   ]
  },
  {
   "cell_type": "code",
   "execution_count": 58,
   "id": "5ed19969-e0cd-4dda-977f-becd5edbdd40",
   "metadata": {},
   "outputs": [],
   "source": [
    "def process(data):\n",
    "    img, label = data\n",
    "    return to_tensor(img), labels[label]\n",
    "\n",
    "dp = dp.map(process)"
   ]
  },
  {
   "cell_type": "markdown",
   "id": "68aae2f9-82c7-4e0a-88fd-026512d57100",
   "metadata": {},
   "source": [
    "If you have come this far then I have a bonus for you. Train an image classifier using DataPipe and PyTorch Lightning Flash ⚡️\n",
    "\n",
    "Flash expects the dataloader to be in form of a dictionary with keys `input` and `target` where input will contain our image tensor and target will be the label index."
   ]
  },
  {
   "cell_type": "code",
   "execution_count": 59,
   "id": "4b36cff7-d197-4487-91c7-d67a7c2bfcc6",
   "metadata": {},
   "outputs": [],
   "source": [
    "dp = dp.map(lambda x: {\"input\": x[0], \"target\": x[1]})"
   ]
  },
  {
   "cell_type": "markdown",
   "id": "95595604-c941-47e3-a6d4-70e423fde3ad",
   "metadata": {},
   "source": [
    "As we discussed that `DataPipes` are fully compatible with DataLoader so this is how you convert a DataPipe to DataLoader."
   ]
  },
  {
   "cell_type": "code",
   "execution_count": 65,
   "id": "2acf2945-7613-47e3-a3e3-ca8e2bd9db42",
   "metadata": {},
   "outputs": [],
   "source": [
    "dl = DataLoader(\n",
    "        dp,\n",
    "        batch_size=32,\n",
    "        shuffle=True,\n",
    "    )"
   ]
  },
  {
   "cell_type": "markdown",
   "id": "6c094095-b2b8-42ff-8a45-ccf3282afa1e",
   "metadata": {},
   "source": [
    "Training an Image Classifier with Flash is super easy. Flash provides Deep Learning tasks based APIs that you can use to train your model. Currently, our task is image classification so let's import the ImageClassifier and build our model."
   ]
  },
  {
   "cell_type": "code",
   "execution_count": 66,
   "id": "08a44cc1-f3a4-4891-ab37-5a49348fd5c6",
   "metadata": {},
   "outputs": [],
   "source": [
    "from flash.image import ImageClassifier\n",
    "import flash"
   ]
  },
  {
   "cell_type": "code",
   "execution_count": 67,
   "id": "5ea9da16-da1a-49aa-b76e-cfeb5f557fe8",
   "metadata": {},
   "outputs": [
    {
     "name": "stderr",
     "output_type": "stream",
     "text": [
      "Using 'efficientnet_b0' provided by rwightman/pytorch-image-models (https://github.com/rwightman/pytorch-image-models).\n"
     ]
    }
   ],
   "source": [
    "model = ImageClassifier(num_classes=len(labels), backbone=\"efficientnet_b0\", pretrained=False)"
   ]
  },
  {
   "cell_type": "code",
   "execution_count": 68,
   "id": "e4f9d514-629f-4800-b65d-7c17bf598561",
   "metadata": {},
   "outputs": [
    {
     "name": "stderr",
     "output_type": "stream",
     "text": [
      "GPU available: False, used: False\n",
      "TPU available: False, using: 0 TPU cores\n",
      "IPU available: False, using: 0 IPUs\n",
      "HPU available: False, using: 0 HPUs\n"
     ]
    }
   ],
   "source": [
    "# Create the trainer and finetune the model\n",
    "trainer = flash.Trainer(max_epochs=3)"
   ]
  },
  {
   "cell_type": "code",
   "execution_count": null,
   "id": "adb22abd-47a1-4fa9-9bb8-61ac429966d3",
   "metadata": {},
   "outputs": [
    {
     "name": "stderr",
     "output_type": "stream",
     "text": [
      "\n",
      "  | Name          | Type           | Params\n",
      "-------------------------------------------------\n",
      "0 | train_metrics | ModuleDict     | 0     \n",
      "1 | val_metrics   | ModuleDict     | 0     \n",
      "2 | test_metrics  | ModuleDict     | 0     \n",
      "3 | adapter       | DefaultAdapter | 4.0 M \n",
      "-------------------------------------------------\n",
      "4.0 M     Trainable params\n",
      "0         Non-trainable params\n",
      "4.0 M     Total params\n",
      "16.081    Total estimated model params size (MB)\n"
     ]
    },
    {
     "data": {
      "application/vnd.jupyter.widget-view+json": {
       "model_id": "07bd7fae753e42bfae064f1d7c47a0f8",
       "version_major": 2,
       "version_minor": 0
      },
      "text/plain": [
       "Training: 0it [00:00, ?it/s]"
      ]
     },
     "metadata": {},
     "output_type": "display_data"
    }
   ],
   "source": [
    "trainer.fit(model, dl)"
   ]
  },
  {
   "cell_type": "code",
   "execution_count": null,
   "id": "033dd7dd-f142-40e0-b9a6-c621c8b6983e",
   "metadata": {},
   "outputs": [],
   "source": []
  },
  {
   "cell_type": "code",
   "execution_count": null,
   "id": "16637ce0-dbcc-4378-b0c8-5ec1da1013e5",
   "metadata": {},
   "outputs": [],
   "source": []
  },
  {
   "cell_type": "code",
   "execution_count": null,
   "id": "3f12d68b-8fb1-4a4f-9651-92dc31e77193",
   "metadata": {},
   "outputs": [],
   "source": []
  }
 ],
 "metadata": {
  "kernelspec": {
   "display_name": "Python 3.10.4 ('am')",
   "language": "python",
   "name": "python3"
  },
  "language_info": {
   "codemirror_mode": {
    "name": "ipython",
    "version": 3
   },
   "file_extension": ".py",
   "mimetype": "text/x-python",
   "name": "python",
   "nbconvert_exporter": "python",
   "pygments_lexer": "ipython3",
   "version": "3.10.4"
  },
  "vscode": {
   "interpreter": {
    "hash": "d428049e3655e19b38ade20e1e23c8840b8444aa5e73a649624ef61a91489202"
   }
  }
 },
 "nbformat": 4,
 "nbformat_minor": 5
}
